import plotly.graph_objects as go
import pandas as pd
import datetime as dt
import numpy as np
from plotly.subplots import make_subplots
import matplotlib.backends.backend_pdf
#download the data
covid = pd.read_csv('geographic-sum-per-day-ver_00274.csv')
vac = pd.read_csv('vaccinated_city_table_ver_0055.csv')
#change data types
covid = covid.replace('<15',1)
covid['accumulated_cases'] = covid['accumulated_cases'].astype(float)
covid['accumulated_recoveries'] = covid['accumulated_recoveries'].astype(float)
covid['accumulated_deaths'] = covid['accumulated_deaths'].astype(float)
covid['accumulated_diagnostic_tests'] = covid['accumulated_diagnostic_tests'].astype(float)
covid['accumulated_hospitalized'] = covid['accumulated_hospitalized'].astype(float)
covid['accumulated_vaccination_first_dose'] = covid['accumulated_vaccination_first_dose'].astype(float)
covid['accumulated_vaccination_second_dose'] = covid['accumulated_vaccination_second_dose'].astype(float)
towns = covid['town_code'].unique()
for town in towns:
    cases = cov_vac_per_town[cov_vac_per_town['town_code']==town]['accumulated_cases'].diff()
    dates = cov_vac_per_town[cov_vac_per_town['town_code']==town]['date']
    vac_1 = cov_vac_per_town[cov_vac_per_town['town_code']==town]['accumulated_vaccination_first_dose'].diff()
    vac_2 = cov_vac_per_town[cov_vac_per_town['town_code']==town]['accumulated_vaccination_second_dose'].diff()
    fig_town = go.Figure()
    fig_town.add_trace(go.Scatter(x=dates, y=cases,
                mode='lines',
                name='Cases'))
    fig_town.add_trace(go.Scatter(x=dates, y=vac_1,
                mode='lines',
                name='First dose'))
    fig_town.add_trace(go.Scatter(x=dates, y=vac_2,
                mode='lines',
                name='Second dose'))
    fig_town.add_hline(y=cases.mean()) 
    fig_town.show()
    print('Town {}'.format(town))
    print('Total number of cases {}'.format(cov_vac_per_town[cov_vac_per_town['town_code']==town]['accumulated_cases'].values[-1]))
    print('Total number of fully vaccinated {}'.format(cov_vac_per_town[cov_vac_per_town['town_code']==town]['accumulated_vaccination_second_dose'].values[-1]))

for town in towns:
    cases = cov_vac_per_town[cov_vac_per_town['town_code']==town]['accumulated_cases'].diff()
    dates = cov_vac_per_town[cov_vac_per_town['town_code']==town]['date']
    fig = go.Figure()
    fig.add_trace(go.Scatter(x=dates, y=cases,
                mode='lines',
                name='Cases'))
    fig.add_hline(y=cases.mean())
    fig.show()
    print('Town {}'.format(town))
    print('Total number of cases {}'.format(cov_vac_per_town[cov_vac_per_town['town_code']==town]['accumulated_cases'].values[-1]))
    print('Total number of fully vaccinated {}'.format(cov_vac_per_town[cov_vac_per_town['town_code']==town]['accumulated_vaccination_second_dose'].values[-1]))
    
